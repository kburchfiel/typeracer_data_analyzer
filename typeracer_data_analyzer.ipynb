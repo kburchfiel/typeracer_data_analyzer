{
 "cells": [
  {
   "cell_type": "markdown",
   "metadata": {},
   "source": [
    "## Typeracer Data Analyzer:\n",
    "\n",
    "A simple script that uses Pandas and Plotly to extract and visualize Typeracer.com race data\n",
    "\n",
    "(Work in progress--more comments/explanations to come)\n",
    "\n",
    "\n",
    "By Kenneth Burchfiel\n",
    "Released under the MIT License\n"
   ]
  },
  {
   "cell_type": "code",
   "execution_count": null,
   "metadata": {},
   "outputs": [],
   "source": [
    "import plotly.express as px\n",
    "import matplotlib.pyplot as plt\n",
    "import pandas as pd\n",
    "import numpy as np\n",
    "import plotly.graph_objects as go\n",
    "import time\n",
    "from datetime import timedelta\n",
    "import kaleido\n",
    "import os\n",
    "from IPython.display import Image\n",
    "# Note regarding kaleido: the most recent version didn't work for me. However,\n",
    "# specifying an older version by entering conda install python-kaleido=0.1.0\n",
    "# worked great. See https://github.com/plotly/Kaleido/issues/120 )\n",
    "from generate_screenshot import generate_screenshot"
   ]
  },
  {
   "cell_type": "code",
   "execution_count": null,
   "metadata": {},
   "outputs": [],
   "source": [
    "import plotly.io as pio\n",
    "pio.kaleido.scope.mathjax = None"
   ]
  },
  {
   "cell_type": "code",
   "execution_count": null,
   "metadata": {},
   "outputs": [],
   "source": [
    "# current_time = time.time() # Retrieves the current time in Unix seconds, which is what the API uses also. Adding a +1 helps ensure that races that just completed are also included\n",
    "# current_time"
   ]
  },
  {
   "cell_type": "markdown",
   "metadata": {},
   "source": [
    "The following cell reads Typeracer race data (which I downloaded from my Typeracer account) into a Pandas DataFrame, then calculates rolling and cumulative averages."
   ]
  },
  {
   "cell_type": "code",
   "execution_count": null,
   "metadata": {},
   "outputs": [],
   "source": [
    "df_race_data = pd.read_csv('race_data.csv')\n",
    "df_race_data['Last 10 Avg'] = df_race_data['WPM'].rolling(10).mean()\n",
    "df_race_data['Last 100 Avg'] = df_race_data['WPM'].rolling(100).mean()\n",
    "df_race_data['Last 1000 Avg'] = df_race_data['WPM'].rolling(1000).mean()\n",
    "# The following line uses a list comprehension to generate a cumulative average\n",
    "# of all WPM scores up until the current race. .iloc searches from 0 to i+1 for\n",
    "# each row so that that row is included in the calculation.\n",
    "df_race_data['cumulative_avg'] = [round(np.mean(df_race_data.iloc[0:i+1]['WPM']),3) for i in range(len(df_race_data))]\n",
    "df_race_data"
   ]
  },
  {
   "cell_type": "markdown",
   "metadata": {},
   "source": [
    "Top 20 races by WPM:"
   ]
  },
  {
   "cell_type": "code",
   "execution_count": null,
   "metadata": {},
   "outputs": [],
   "source": [
    "df_race_data.sort_values('WPM', ascending = False).head(20)"
   ]
  },
  {
   "cell_type": "markdown",
   "metadata": {},
   "source": [
    "Top 10 'Last 10 Average' values:"
   ]
  },
  {
   "cell_type": "code",
   "execution_count": null,
   "metadata": {},
   "outputs": [],
   "source": [
    "df_race_data.sort_values('Last 10 Avg', ascending = False).head(20)"
   ]
  },
  {
   "cell_type": "markdown",
   "metadata": {},
   "source": [
    "Creating interactive charts using Plotly express: (Note: because these are HTML files, they won't display on GitHub; instead, you'll need to download and run the Jupyter notebook on your computer to view them.)"
   ]
  },
  {
   "cell_type": "code",
   "execution_count": null,
   "metadata": {},
   "outputs": [],
   "source": [
    "race_line_plot = px.line(df_race_data, x = 'Race #', y = ['WPM', 'Last 10 Avg', 'Last 100 Avg', 'Last 1000 Avg', 'cumulative_avg'])\n",
    "race_line_plot.write_html('html_output/race_line_plot.html')\n",
    "race_line_plot"
   ]
  },
  {
   "cell_type": "markdown",
   "metadata": {},
   "source": [
    "Generating static version of this .html file using Kaleido:"
   ]
  },
  {
   "cell_type": "code",
   "execution_count": null,
   "metadata": {},
   "outputs": [],
   "source": [
    "image_width = 3000 # Interestingly, when I tried setting the image width as 3840 (e.g. UHD resolution), the x axis did not line up properly with the chart.)\n",
    "image_height = image_width * 9/16\n",
    "race_line_plot.write_image('png_output/race_line_plot_using_kaleido.png', width = image_width, height = image_height, engine = 'kaleido')\n",
    "# See https://plotly.com/python/static-image-export/"
   ]
  },
  {
   "cell_type": "markdown",
   "metadata": {},
   "source": [
    "Here's a copy of the image:"
   ]
  },
  {
   "cell_type": "code",
   "execution_count": null,
   "metadata": {},
   "outputs": [],
   "source": [
    "Image(filename = 'png_output/race_line_plot_using_kaleido.png')"
   ]
  },
  {
   "cell_type": "markdown",
   "metadata": {},
   "source": [
    "Alternate method of generating the screenshot by using Selenium and a web browser: (the output is quite similar)"
   ]
  },
  {
   "cell_type": "code",
   "execution_count": null,
   "metadata": {},
   "outputs": [],
   "source": [
    "generate_screenshot(\n",
    "path_to_html = os.path.join(os.getcwd(), 'html_output'),\n",
    "html_name = 'race_line_plot.html', \n",
    "path_to_image = os.path.join(os.getcwd(), 'png_output'), \n",
    "image_name = 'race_line_plot_using_generate_screenshot', \n",
    "image_extension = '.png',\n",
    "window_width = 3000) \n",
    "# See https://docs.python.org/3/library/os.path.html for the use of os.path.join()."
   ]
  }
 ],
 "metadata": {
  "kernelspec": {
   "display_name": "Python 3.10.4 ('ga15pyd')",
   "language": "python",
   "name": "python3"
  },
  "language_info": {
   "codemirror_mode": {
    "name": "ipython",
    "version": 3
   },
   "file_extension": ".py",
   "mimetype": "text/x-python",
   "name": "python",
   "nbconvert_exporter": "python",
   "pygments_lexer": "ipython3",
   "version": "3.10.4"
  },
  "orig_nbformat": 4,
  "vscode": {
   "interpreter": {
    "hash": "373fc5a02dc1a4f4d7122438e12fcda035e925b32ee1fe85dbff58fb3bdd1371"
   }
  }
 },
 "nbformat": 4,
 "nbformat_minor": 2
}
